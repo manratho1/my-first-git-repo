{
 "cells": [
  {
   "cell_type": "code",
   "execution_count": 3,
   "id": "9d60719b-cc7b-483c-9f12-766c1f38c9ce",
   "metadata": {},
   "outputs": [
    {
     "name": "stdout",
     "output_type": "stream",
     "text": [
      "Hello World\n"
     ]
    }
   ],
   "source": [
    "str1=\"Hello\"\n",
    "str2=\"World\"\n",
    "\n",
    "str= str1 +\" \"+ str2\n",
    "print(str)"
   ]
  },
  {
   "cell_type": "code",
   "execution_count": 7,
   "id": "b40a9d1a-5bc7-4491-a034-cc9741f682ab",
   "metadata": {},
   "outputs": [
    {
     "name": "stdout",
     "output_type": "stream",
     "text": [
      "Hello Hello Hello \n"
     ]
    }
   ],
   "source": [
    "str=\"Hello \"\n",
    "str1=str*3\n",
    "print(str1)"
   ]
  },
  {
   "cell_type": "code",
   "execution_count": 8,
   "id": "f5378dbd-9439-4bfd-85ab-b02412c94237",
   "metadata": {},
   "outputs": [
    {
     "name": "stdout",
     "output_type": "stream",
     "text": [
      "Length of Python\n",
      "6\n"
     ]
    }
   ],
   "source": [
    "print(\"Length of Python\")\n",
    "str=len(\"PYTHON\")\n",
    "print(str)\n"
   ]
  },
  {
   "cell_type": "code",
   "execution_count": 21,
   "id": "f7cc9da1-0409-4e45-9644-7ff9de2556b6",
   "metadata": {},
   "outputs": [
    {
     "name": "stdout",
     "output_type": "stream",
     "text": [
      "P\n",
      "N\n",
      "N\n",
      "PYTHO\n",
      "PYTHON\n",
      "NOHTYP\n",
      "PTO\n"
     ]
    }
   ],
   "source": [
    "#slicing\n",
    "str=\"PYTHON\"\n",
    "first_char=str[0]\n",
    "print(str[0])\n",
    "last_char=str[5]\n",
    "print(str[5])\n",
    "print(str[-1])\n",
    "\n",
    "print(str[0:5])\n",
    "print(str[::])\n",
    "print(str[::-1])\n",
    "print(str[::2])\n"
   ]
  },
  {
   "cell_type": "code",
   "execution_count": 24,
   "id": "22ac4066-0a8c-4fb3-b91f-65a20af7ccde",
   "metadata": {},
   "outputs": [
    {
     "name": "stdout",
     "output_type": "stream",
     "text": [
      "PYTHON\n",
      "python\n"
     ]
    }
   ],
   "source": [
    "text=\"PythOn\"\n",
    "text_upper=text.upper()\n",
    "text_lower=text.lower()\n",
    "print(text_upper)\n",
    "print(text_lower)"
   ]
  },
  {
   "cell_type": "code",
   "execution_count": 26,
   "id": "d3431d02-fa42-45c1-9fec-8098aae048fd",
   "metadata": {},
   "outputs": [
    {
     "name": "stdout",
     "output_type": "stream",
     "text": [
      "This Is My First Program\n"
     ]
    }
   ],
   "source": [
    "text=\"This is my first program\"\n",
    "title=text.title()\n",
    "print(title)"
   ]
  },
  {
   "cell_type": "code",
   "execution_count": 27,
   "id": "bf475ca5-70ae-4203-ad15-397cb1ce1742",
   "metadata": {},
   "outputs": [
    {
     "name": "stdout",
     "output_type": "stream",
     "text": [
      "hELLO wORLD\n"
     ]
    }
   ],
   "source": [
    "text=\"Hello World\"\n",
    "swap=text.swapcase()\n",
    "print(swap)"
   ]
  },
  {
   "cell_type": "code",
   "execution_count": 83,
   "id": "bd42c1a1-9c3e-4c9c-a0e3-e478404434f2",
   "metadata": {},
   "outputs": [
    {
     "name": "stdout",
     "output_type": "stream",
     "text": [
      "True\n"
     ]
    }
   ],
   "source": [
    "#print a palindrome string\n",
    "\n",
    "text=\"radar\"\n",
    "\n",
    "def palindrome(string):\n",
    "    string1=string[::-1]\n",
    "    if string==string1:\n",
    "        return(\"True\")\n",
    "    else:\n",
    "        return(\"false\")\n",
    "\n",
    "check_pal=palindrome(text)\n",
    "print(check_pal)\n"
   ]
  },
  {
   "cell_type": "code",
   "execution_count": 35,
   "id": "9748670e-e4cf-4ed3-b8df-bf52c19fd209",
   "metadata": {},
   "outputs": [
    {
     "name": "stdout",
     "output_type": "stream",
     "text": [
      "6\n",
      "Hello Python\n"
     ]
    }
   ],
   "source": [
    "#replace a substring\n",
    "text=\"Hello World\"\n",
    "index=text.find(\"World\")\n",
    "print(index)\n",
    "str1=text.replace(\"World\",\"Python\")\n",
    "print(str1)\n",
    "\n",
    "\n",
    "\n"
   ]
  },
  {
   "cell_type": "code",
   "execution_count": 38,
   "id": "6f13bd5a-d13f-4ef8-924c-72fdfefe6b97",
   "metadata": {},
   "outputs": [
    {
     "name": "stdout",
     "output_type": "stream",
     "text": [
      "True\n"
     ]
    }
   ],
   "source": [
    "#check if contains \n",
    "text=\"Hello World\"\n",
    "contains= \"World\" in text\n",
    "print(contains)"
   ]
  },
  {
   "cell_type": "code",
   "execution_count": 44,
   "id": "380d6649-387b-48e4-8ba8-066bb423e9c9",
   "metadata": {},
   "outputs": [
    {
     "name": "stdout",
     "output_type": "stream",
     "text": [
      "False\n",
      "True\n"
     ]
    }
   ],
   "source": [
    "# output true false\n",
    "text=\"hello Python\"\n",
    "start=text.startswith(\"u\")\n",
    "print(start)\n",
    "\n",
    "ends=text.endswith(\"on\")\n",
    "print(ends)"
   ]
  },
  {
   "cell_type": "code",
   "execution_count": 46,
   "id": "24eaf842-b45d-44e7-a3b3-ecb6c95733cc",
   "metadata": {},
   "outputs": [
    {
     "name": "stdout",
     "output_type": "stream",
     "text": [
      "['apple', 'cherry', 'lichi', 'bannana']\n"
     ]
    }
   ],
   "source": [
    "text=\"apple,cherry,lichi,bannana\"\n",
    "fruits=text.split(\",\")\n",
    "print(fruits)"
   ]
  },
  {
   "cell_type": "code",
   "execution_count": 52,
   "id": "81b39824-34e8-42db-a330-13994ac766f7",
   "metadata": {},
   "outputs": [
    {
     "name": "stdout",
     "output_type": "stream",
     "text": [
      "hello,python,i am here\n"
     ]
    }
   ],
   "source": [
    "text=\"hello,python,i am here \"\n",
    "stripped_text=text.strip()\n",
    "print(stripped_text)"
   ]
  },
  {
   "cell_type": "code",
   "execution_count": 54,
   "id": "bf40d250-906e-45c0-961b-7beca3a61575",
   "metadata": {},
   "outputs": [
    {
     "name": "stdout",
     "output_type": "stream",
     "text": [
      "My name is Alice of 30 years\n"
     ]
    }
   ],
   "source": [
    "name=\"Alice\"\n",
    "age=30\n",
    "print(f\"My name is {name} of {age} years\")"
   ]
  },
  {
   "cell_type": "code",
   "execution_count": 59,
   "id": "d3170303-68af-47d5-a08b-99cb42d947af",
   "metadata": {},
   "outputs": [
    {
     "name": "stdout",
     "output_type": "stream",
     "text": [
      "7\n"
     ]
    }
   ],
   "source": [
    "text=\"banannaaaaa\"\n",
    "print(text.count(\"a\"))\n"
   ]
  },
  {
   "cell_type": "code",
   "execution_count": 62,
   "id": "e7cf2446-487b-446c-b812-37e4b5517623",
   "metadata": {},
   "outputs": [
    {
     "name": "stdout",
     "output_type": "stream",
     "text": [
      "He said,\"Hello\"\n",
      "Hello \n",
      " World\n"
     ]
    }
   ],
   "source": [
    "text=\"He said,\\\"Hello\\\"\"\n",
    "print(text)\n",
    "\n",
    "newline=\"Hello \\n World\"\n",
    "print(newline)\n"
   ]
  },
  {
   "cell_type": "code",
   "execution_count": 73,
   "id": "3692155e-97ce-4f36-a5d1-88302dc1a832",
   "metadata": {},
   "outputs": [
    {
     "name": "stdout",
     "output_type": "stream",
     "text": [
      "3\n"
     ]
    }
   ],
   "source": [
    "def count_vowels(text):\n",
    "    vowels=\"AEIOUaeiou\"\n",
    "    count=0\n",
    "    for char in text:\n",
    "        if char in vowels:\n",
    "            count=count+1\n",
    "\n",
    "    return(count)\n",
    "vowels_in_text=count_vowels(\"Hello WORLD\")\n",
    "print(vowels_in_text)\n",
    "\n",
    "\n",
    "    \n",
    "\n",
    "\n"
   ]
  },
  {
   "cell_type": "code",
   "execution_count": 82,
   "id": "9d6db9c7-e125-4880-90e4-f6054a30b212",
   "metadata": {},
   "outputs": [
    {
     "name": "stdout",
     "output_type": "stream",
     "text": [
      "15\n"
     ]
    }
   ],
   "source": [
    "list_nums=[1,2,3,4,5]\n",
    "def count_list(list1):\n",
    "    count=0\n",
    "    for num in list_nums:\n",
    "        count=count+num\n",
    "    return(count)\n",
    "\n",
    "x=count_list(list_nums)\n",
    "print(x)\n",
    "\n",
    "\n",
    "    \n",
    "    \n"
   ]
  },
  {
   "cell_type": "code",
   "execution_count": 77,
   "id": "eb96203d-650a-40bf-a910-f274e187f86b",
   "metadata": {},
   "outputs": [
    {
     "name": "stdout",
     "output_type": "stream",
     "text": [
      "2\n",
      "23\n"
     ]
    }
   ],
   "source": [
    "x=[23,2,3,5,6,7,9]\n",
    "\n",
    "\n",
    "print(min(x))\n",
    "print(max(x))"
   ]
  },
  {
   "cell_type": "code",
   "execution_count": 105,
   "id": "5d42ddd0-e3b9-4893-aeec-4403d30a3017",
   "metadata": {},
   "outputs": [
    {
     "name": "stdout",
     "output_type": "stream",
     "text": [
      "4\n",
      "5\n",
      "8\n",
      "9\n",
      "6\n",
      "Min_val: 4\n",
      "Max_val: 9\n"
     ]
    }
   ],
   "source": [
    "def find_min_max(numbers):\n",
    "    #if not numbers:\n",
    "     #   return None, None  # Return None for empty list\n",
    "\n",
    "    min_val = numbers[0]\n",
    "    max_val = numbers[0]\n",
    "    \n",
    "    for num in numbers[1:]:\n",
    "        if num < min_val:\n",
    "            min_val = num\n",
    "        print(num)\n",
    "        if num > max_val:\n",
    "            max_val = num\n",
    "\n",
    "    return min_val, max_val\n",
    "\n",
    "numbers=[7,4,5,8,9,6]\n",
    "min_val,max_val=find_min_max(numbers)\n",
    "print(\"Min_val:\",min_val)\n",
    "print(\"Max_val:\",max_val)\n",
    "\n"
   ]
  },
  {
   "cell_type": "code",
   "execution_count": 106,
   "id": "4727021a-ac51-4a2f-a656-fc32473b1e02",
   "metadata": {},
   "outputs": [
    {
     "name": "stdout",
     "output_type": "stream",
     "text": [
      "11\n"
     ]
    }
   ],
   "source": [
    "#length of a string\n",
    "\n",
    "def len_str(string1):\n",
    "    length=0\n",
    "    for _ in string1:\n",
    "        length=length+1\n",
    "    return length\n",
    "\n",
    "string1=\"Hello World\"\n",
    "print(len_str(string1))\n",
    "    \n",
    "    "
   ]
  },
  {
   "cell_type": "code",
   "execution_count": 113,
   "id": "d4a02cb4-c4fb-4501-92b7-cb9f65f855dd",
   "metadata": {},
   "outputs": [
    {
     "name": "stdout",
     "output_type": "stream",
     "text": [
      "(4, 5)\n",
      "(3, 7)\n"
     ]
    }
   ],
   "source": [
    "def swap(a,b):\n",
    "    a=a+b\n",
    "    b=a-b\n",
    "    a=a-b\n",
    "    return a,b\n",
    "\n",
    "print(swap(5,4))\n",
    "print(swap(7,3))\n",
    "    "
   ]
  },
  {
   "cell_type": "code",
   "execution_count": 131,
   "id": "d26cd2c0-e04e-4e24-82a4-27a3895d09b9",
   "metadata": {},
   "outputs": [
    {
     "name": "stdout",
     "output_type": "stream",
     "text": [
      "even\n"
     ]
    }
   ],
   "source": [
    "x=10\n",
    "def odd_even(x):\n",
    "        if x%2==0:\n",
    "            return \"even\"\n",
    "        else:\n",
    "            return \"odd\"\n",
    "            \n",
    "print(odd_even(x))"
   ]
  },
  {
   "cell_type": "code",
   "execution_count": 130,
   "id": "a6282797-2f13-4302-b458-6c1b6819fa8a",
   "metadata": {},
   "outputs": [
    {
     "name": "stdout",
     "output_type": "stream",
     "text": [
      "3\n",
      "even\n"
     ]
    }
   ],
   "source": [
    "\n",
    "    "
   ]
  },
  {
   "cell_type": "code",
   "execution_count": 195,
   "id": "8b7a191c-e574-469f-8eef-fe4001b3d1c4",
   "metadata": {},
   "outputs": [
    {
     "name": "stdout",
     "output_type": "stream",
     "text": [
      "prime\n"
     ]
    }
   ],
   "source": [
    "def prime_or_not(num):\n",
    "    if num<=1:\n",
    "        return False\n",
    "    for i in range(2, int(num**0.5)+1):\n",
    "        if (num % i) == 0:\n",
    "           return \"not a Prime\"\n",
    "    return \"prime\"\n",
    "            \n",
    "print(prime_or_not(43))\n"
   ]
  },
  {
   "cell_type": "code",
   "execution_count": 3,
   "id": "3acd372b-7b09-4ec5-b457-083093cc3075",
   "metadata": {},
   "outputs": [
    {
     "name": "stdout",
     "output_type": "stream",
     "text": [
      "10\n"
     ]
    }
   ],
   "source": [
    "def sum_of_digits(number):\n",
    "    total=0\n",
    "    for digit in str(number):\n",
    "        total=total+int(digit)\n",
    "    return total\n",
    "\n",
    "number=1234\n",
    "print(sum_of_digits(number))\n",
    "    \n"
   ]
  },
  {
   "cell_type": "code",
   "execution_count": 30,
   "id": "acb3d41e-75ba-43ad-8ba3-92c01dcd88e7",
   "metadata": {},
   "outputs": [
    {
     "name": "stdout",
     "output_type": "stream",
     "text": [
      "1  \n",
      "1  \n",
      "2  \n",
      "3  \n",
      "5  \n",
      "8  \n",
      "13  \n",
      "21  \n",
      "34  \n"
     ]
    }
   ],
   "source": [
    "#Fibonacci \n",
    "def fibonacci(n):\n",
    "    a,b=0,1\n",
    "    for _ in range(n):\n",
    "        a,b=b ,a+b\n",
    "        print(a ,\" \")\n",
    "\n",
    "fibonacci(9)"
   ]
  },
  {
   "cell_type": "code",
   "execution_count": 32,
   "id": "e5cba6c3-9b51-463c-a6cc-0ba8063fe00d",
   "metadata": {},
   "outputs": [
    {
     "data": {
      "text/plain": [
       "list"
      ]
     },
     "execution_count": 32,
     "metadata": {},
     "output_type": "execute_result"
    }
   ],
   "source": [
    "\n",
    "x=[1, 2, 2, 1]\n",
    "y=[2, 2]\n",
    "\n",
    "type(x)\n",
    "type(y)\n"
   ]
  },
  {
   "cell_type": "code",
   "execution_count": 44,
   "id": "77ef4b4e-218e-4a85-b3fa-2054a0a5b095",
   "metadata": {},
   "outputs": [
    {
     "name": "stdout",
     "output_type": "stream",
     "text": [
      "[2]\n"
     ]
    }
   ],
   "source": [
    "arr1=[1,2,2,1]\n",
    "arr2=[2,2]\n",
    "\n",
    "result=[]\n",
    "set1=set()\n",
    "\n",
    "def intersection(arr1,arr2):\n",
    "    for num in arr1:\n",
    "        if num in arr2 and num not in set1:\n",
    "            result.append(num)\n",
    "            set1.add(num)\n",
    "    return result\n",
    "\n",
    "print(intersection(arr1,arr2))\n",
    "            "
   ]
  },
  {
   "cell_type": "code",
   "execution_count": 65,
   "id": "0608b4ba-f5b2-4b7a-9e2a-4e7492345f53",
   "metadata": {},
   "outputs": [
    {
     "name": "stdout",
     "output_type": "stream",
     "text": [
      "letcod\n"
     ]
    }
   ],
   "source": [
    "string1=\"leetcode\"\n",
    "string2=\"\"\n",
    "\n",
    "for i in string1:\n",
    "    if i in string1 and i not in string2:\n",
    "        string2=string2+i\n",
    "print(string2)\n",
    "    \n",
    "    \n",
    "    \n",
    "    \n",
    "    \n",
    " \n",
    "        \n",
    "    \n",
    "    \n",
    "  "
   ]
  },
  {
   "cell_type": "code",
   "execution_count": null,
   "id": "bb1e462f-d449-41eb-a6db-10f7045636ad",
   "metadata": {},
   "outputs": [],
   "source": []
  }
 ],
 "metadata": {
  "kernelspec": {
   "display_name": "Python 3 (ipykernel)",
   "language": "python",
   "name": "python3"
  },
  "language_info": {
   "codemirror_mode": {
    "name": "ipython",
    "version": 3
   },
   "file_extension": ".py",
   "mimetype": "text/x-python",
   "name": "python",
   "nbconvert_exporter": "python",
   "pygments_lexer": "ipython3",
   "version": "3.12.4"
  }
 },
 "nbformat": 4,
 "nbformat_minor": 5
}
